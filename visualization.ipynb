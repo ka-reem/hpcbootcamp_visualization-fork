{
 "cells": [
  {
   "cell_type": "markdown",
   "metadata": {},
   "source": [
    "<h1 align=\"center\"> An Introduction to Data Visualization with Python </h1>\n",
    "<h3 align=\"center\"> Kristy Streu - HPC Partnerships and Outreach Specialist - Argonne Leadership Computing Facility </h3>"
   ]
  },
  {
   "cell_type": "markdown",
   "metadata": {},
   "source": [
    "<figure style=\"text-align: center\">\n",
    "  <img src=\"img/alcf_vis.jpeg\" width=\"80%\">\n",
    "  <figcaption><em>Figure 1. Vis Lab at Argonne National Laboratory</em></figcaption>\n",
    "</figure>"
   ]
  },
  {
   "cell_type": "markdown",
   "metadata": {},
   "source": [
    "<figure style=\"text-align: center\">\n",
    "  <img src=\"img/covid.jpeg\" width=\"80%\">\n",
    "  <figcaption><em>Figure 2. Viral genome sequencing helps us predict mutations and develop life saving drugs and vaccines (Emory University)</em></figcaption>\n",
    "</figure>"
   ]
  },
  {
   "cell_type": "markdown",
   "metadata": {},
   "source": [
    "<figure style=\"text-align: center\">\n",
    "  <img src=\"img/ClimateModel.jpeg\" width=\"80%\">\n",
    "  <figcaption><em>Figure 3. Model and predict climate change to help drive green energy policies (Los Alamos National Laboratory)</em></figcaption>\n",
    "</figure>"
   ]
  },
  {
   "cell_type": "markdown",
   "metadata": {},
   "source": [
    "<figure style=\"text-align: center\">\n",
    "  <img src=\"img/astro_viz.jpeg\" width=\"80%\">\n",
    "  <figcaption><em>Figure 4. Help us understand the forces beyond our world and answer some of the universe's biggest questions (Simulation and Visualization: Ji-hoon Kim and Tom Abel)</em></figcaption>\n",
    "</figure>\n",
    "\n",
    "***"
   ]
  },
  {
   "cell_type": "markdown",
   "metadata": {},
   "source": [
    "<h3 align=\"center\">Import Core Python Libraries for Data Visualization</h3>\n",
    "\n",
    "The main python libraries we will be using for visualization are:\n",
    "* `matplotlib`: https://matplotlib.org/stable/\n",
    "* `pandas`: https://pandas.pydata.org\n",
    "* `numpy`: https://numpy.org\n",
    "\n",
    "Matplotlib is a powerful data visualization library in Python widely used for creating high-quality static, interactive, and animated visualizations. This tutorial will walk you through the essential concepts and functionalities of Matplotlib."
   ]
  },
  {
   "cell_type": "code",
   "execution_count": null,
   "metadata": {},
   "outputs": [],
   "source": [
    "# Basic imports\n",
    "import numpy as np\n",
    "import pandas as pd\n",
    "import matplotlib.pyplot as plt"
   ]
  },
  {
   "cell_type": "markdown",
   "metadata": {},
   "source": [
    "<h3 align=\"center\">Plotting with Matplotlib</h3>"
   ]
  },
  {
   "cell_type": "markdown",
   "metadata": {},
   "source": [
    "Lets start with a basic line plot.\n",
    "\n",
    "`matplotlib.pyplot.plt()` documentation: https://matplotlib.org/stable/api/_as_gen/matplotlib.pyplot.plot.html"
   ]
  },
  {
   "cell_type": "code",
   "execution_count": null,
   "metadata": {},
   "outputs": [],
   "source": [
    "# Create data\n",
    "x = np.linspace(0, 10, 100)\n",
    "y = np.sin(x)\n",
    "\n",
    "# Create a line plot\n",
    "plt.plot(x, y, label='sin(x)')\n",
    "\n",
    "# Add labels and title\n",
    "plt.xlabel('x-axis')\n",
    "plt.ylabel('y-axis')\n",
    "plt.title('Line Plot Example')\n",
    "plt.legend()\n",
    "\n",
    "# Show the plot\n",
    "plt.show()\n"
   ]
  },
  {
   "cell_type": "markdown",
   "metadata": {},
   "source": [
    "Exercise 1\n",
    "\n",
    "Let's create a Line Plot together by completing the missing code in the cell below."
   ]
  },
  {
   "cell_type": "code",
   "execution_count": null,
   "metadata": {},
   "outputs": [],
   "source": [
    "# Monthly temperature data\n",
    "months = ['Jan', 'Feb', 'Mar', 'Apr', 'May', 'Jun']\n",
    "temps = [32, 35, 45, 55, 65, 75]\n",
    "\n",
    "plt.____(months, temps, color='____')\n",
    "plt.title('____')\n",
    "plt.____('Month')\n",
    "plt.____('Temperature (°F)')\n",
    "plt.show()"
   ]
  },
  {
   "cell_type": "markdown",
   "metadata": {},
   "source": [
    "Now work with your neighbor to add some features to your Line Plot with temperature data.\n",
    "* Choose marker style: `'o'`, `'s'`, `'^'`, or `'D'`\n",
    "* Add one of these line styles: `'--'`, `'-.'`, `':'`\n",
    "* Pick a color: `'red'`, `'green'`, `'purple'`, `'#FF6B6B'`\n",
    "\n",
    "*Hint: Update `plt.plot()` with optional keyword arguments.*"
   ]
  },
  {
   "cell_type": "code",
   "execution_count": null,
   "metadata": {},
   "outputs": [],
   "source": [
    "# Hint:\n",
    "# plt.plot(____, ____, color=____, linestyle=____, marker=____)\n",
    "\n",
    "# Your code here - modify the basic plot in the cell above"
   ]
  },
  {
   "cell_type": "markdown",
   "metadata": {},
   "source": [
    "Scatter Plot example\n",
    "\n",
    "`matplotlib.pyplot.scatter` documentation: https://matplotlib.org/stable/api/_as_gen/matplotlib.pyplot.scatter.html"
   ]
  },
  {
   "cell_type": "code",
   "execution_count": null,
   "metadata": {},
   "outputs": [],
   "source": [
    "# Create data\n",
    "x = np.random.rand(50)\n",
    "y = np.random.rand(50)\n",
    "\n",
    "# Create a scatter plot\n",
    "plt.scatter(x, y, label='Random Data', color='blue', marker='o', s=50)\n",
    "\n",
    "# Add labels and title\n",
    "plt.xlabel('x-axis')\n",
    "plt.ylabel('y-axis')\n",
    "plt.title('Scatter Plot Example')\n",
    "plt.legend()\n",
    "\n",
    "# Show the plot\n",
    "plt.show()\n"
   ]
  },
  {
   "cell_type": "markdown",
   "metadata": {},
   "source": [
    "Bar Plot example\n",
    "\n",
    "`matplotlib.pyplot.bar()` documentation: https://matplotlib.org/stable/api/_as_gen/matplotlib.pyplot.bar.html"
   ]
  },
  {
   "cell_type": "code",
   "execution_count": null,
   "metadata": {},
   "outputs": [],
   "source": [
    "# Create data\n",
    "categories = ['Category A', 'Category B', 'Category C']\n",
    "values = [25, 50, 75]\n",
    "\n",
    "# Create a bar plot\n",
    "plt.bar(categories, values)\n",
    "\n",
    "# Add labels and title\n",
    "plt.xlabel('Categories')\n",
    "plt.ylabel('Values')\n",
    "plt.title('Bar Plot Example')\n",
    "\n",
    "# Show the plot\n",
    "plt.show()\n"
   ]
  },
  {
   "cell_type": "markdown",
   "metadata": {},
   "source": [
    "`seaborn` is a helpful library built on top of `matplotlib` that provides useful automation functionality and better default settings (color palettes, grid styles, etc.)\n",
    "\n",
    "* `seaborn`: https://seaborn.pydata.org/"
   ]
  },
  {
   "cell_type": "code",
   "execution_count": null,
   "metadata": {},
   "outputs": [],
   "source": [
    "import seaborn as sns\n",
    "\n",
    "# Create data\n",
    "categories = ['Category A', 'Category B', 'Category C']\n",
    "values = [25, 50, 75]\n",
    "\n",
    "# Plot with Seaborn\n",
    "sns.barplot(x=categories, y=values, palette=\"pastel\")\n",
    "\n",
    "# Add labels and title\n",
    "plt.xlabel('Categories')\n",
    "plt.ylabel('Values')\n",
    "plt.title(\"Bar Plot Using Seaborn\")\n",
    "\n",
    "# Show the plot\n",
    "plt.show()"
   ]
  },
  {
   "cell_type": "markdown",
   "metadata": {},
   "source": [
    "Histogram Example\n",
    "\n",
    "`matplotlib.pyplot.hist()` documentation: https://matplotlib.org/stable/api/_as_gen/matplotlib.pyplot.hist.html"
   ]
  },
  {
   "cell_type": "code",
   "execution_count": null,
   "metadata": {},
   "outputs": [],
   "source": [
    "# Create random data, random sample from standard normal distribution\n",
    "data = np.random.randn(1000)\n",
    "\n",
    "# Create a histogram\n",
    "plt.hist(data, bins=30, edgecolor='black')\n",
    "\n",
    "# Add labels and title\n",
    "plt.xlabel('Values')\n",
    "plt.ylabel('Frequency')\n",
    "plt.title('Histogram Example')\n",
    "\n",
    "# Show the plot\n",
    "plt.show()"
   ]
  },
  {
   "cell_type": "markdown",
   "metadata": {},
   "source": [
    "What is the effect of changing the following in the above histogram?\n",
    "* data size\n",
    "* bin size"
   ]
  },
  {
   "cell_type": "code",
   "execution_count": null,
   "metadata": {},
   "outputs": [],
   "source": [
    "# Your code here - modify the histogram code in the cell \n",
    "\n"
   ]
  },
  {
   "cell_type": "markdown",
   "metadata": {},
   "source": [
    "Pie Chart example\n",
    "\n",
    "`matplotlib.pyplot.pie()` documentation: https://matplotlib.org/stable/api/_as_gen/matplotlib.pyplot.pie.html"
   ]
  },
  {
   "cell_type": "code",
   "execution_count": null,
   "metadata": {},
   "outputs": [],
   "source": [
    "# Create data\n",
    "labels = ['Category A', 'Category B', 'Category C']\n",
    "sizes = [15, 30, 55]\n",
    "colors = ['red', 'green', 'blue']\n",
    "\n",
    "# Create a pie chart\n",
    "plt.pie(sizes, labels=labels, colors=colors, autopct='%1.1f%%', shadow=True, startangle=90)\n",
    "\n",
    "# Add title\n",
    "plt.title('Pie Chart Example')\n",
    "\n",
    "# Show the plot\n",
    "plt.show()\n"
   ]
  },
  {
   "cell_type": "markdown",
   "metadata": {},
   "source": [
    "<h3 align=\"center\">Plotting Cutomization</h3>\n",
    "\n",
    "Titles, Labels, and Legends"
   ]
  },
  {
   "cell_type": "code",
   "execution_count": null,
   "metadata": {},
   "outputs": [],
   "source": [
    "# Example data\n",
    "x = np.linspace(0, 10, 100)\n",
    "y1 = np.sin(x)\n",
    "y2 = np.cos(x)\n",
    "\n",
    "# Create a line plot\n",
    "plt.plot(x, y1, label='sin(x)', color='blue')\n",
    "plt.plot(x, y2, label='cos(x)', color='green')\n",
    "\n",
    "# Add labels and title\n",
    "plt.xlabel('x-axis')\n",
    "plt.ylabel('y-axis')\n",
    "plt.title('Customized Line Plot')\n",
    "plt.legend()\n",
    "\n",
    "# Show the plot\n",
    "plt.show()\n"
   ]
  },
  {
   "cell_type": "code",
   "execution_count": null,
   "metadata": {},
   "outputs": [],
   "source": [
    "# Example data\n",
    "x = np.linspace(0, 10, 100)\n",
    "y1 = np.sin(x)\n",
    "y2 = np.cos(x)\n",
    "\n",
    "# Create a line plot\n",
    "plt.plot(x, y1, label='sin(x)', color='blue')\n",
    "plt.plot(x, y2, label='cos(x)', color='green')\n",
    "\n",
    "# Add labels and title\n",
    "plt.xlabel('x-axis')\n",
    "plt.ylabel('y-axis')\n",
    "plt.title('Line Plot with Legend')\n",
    "plt.legend(loc='upper right')\n",
    "\n",
    "# Show the plot\n",
    "plt.show()\n"
   ]
  },
  {
   "cell_type": "markdown",
   "metadata": {},
   "source": [
    "Colors, Markers, and Linestyles"
   ]
  },
  {
   "cell_type": "code",
   "execution_count": null,
   "metadata": {},
   "outputs": [],
   "source": [
    "# Example data\n",
    "x = np.linspace(0, 10, 100)\n",
    "y1 = np.sin(x)\n",
    "y2 = np.cos(x)\n",
    "\n",
    "# Create a line plot with customized colors, markers, and linestyles\n",
    "plt.plot(x, y1, label='sin(x)', color='blue', linestyle='-', marker='o', markersize=5)\n",
    "plt.plot(x, y2, label='cos(x)', color='green', linestyle='--', marker='s', markersize=5)\n",
    "\n",
    "# Add labels and title\n",
    "plt.xlabel('x-axis')\n",
    "plt.ylabel('y-axis')\n",
    "plt.title('Customized Line Plot')\n",
    "plt.legend(loc='upper right')\n",
    "\n",
    "# Show the plot\n",
    "plt.show()\n"
   ]
  },
  {
   "cell_type": "markdown",
   "metadata": {},
   "source": [
    "Grids\n",
    "\n",
    "`matplotlib.pyplot.grid()` documentation: https://matplotlib.org/stable/api/_as_gen/matplotlib.pyplot.grid.html"
   ]
  },
  {
   "cell_type": "code",
   "execution_count": null,
   "metadata": {},
   "outputs": [],
   "source": [
    "# Example data\n",
    "x = np.linspace(0, 10, 100)\n",
    "y = np.sin(x)\n",
    "\n",
    "# Create a line plot with gridlines\n",
    "plt.plot(x, y, label='sin(x)', color='blue')\n",
    "plt.grid(True)\n",
    "\n",
    "# Add labels and title\n",
    "plt.xlabel('x-axis')\n",
    "plt.ylabel('y-axis')\n",
    "plt.title('Line Plot with Gridlines')\n",
    "plt.legend()\n",
    "\n",
    "# Show the plot\n",
    "plt.show()\n"
   ]
  },
  {
   "cell_type": "markdown",
   "metadata": {},
   "source": [
    "Exercise 2: Let's create and modify a scatter plot of 100 random points."
   ]
  },
  {
   "cell_type": "code",
   "execution_count": null,
   "metadata": {},
   "outputs": [],
   "source": [
    "x = ____\n",
    "y = ____\n",
    "\n",
    "plt.____(x, y, color='green')\n",
    "plt.title(\"Random Scatter Plot\")\n",
    "plt.xlabel(\"Random X\")\n",
    "plt.ylabel(\"Random Y\")\n",
    "plt.show()"
   ]
  },
  {
   "cell_type": "markdown",
   "metadata": {},
   "source": [
    "Now work with you neighbor to modify the plot\n",
    "* Change the color and line style\n",
    "* Add a legend\n",
    "* Add a grid\n",
    "* Add axis limits"
   ]
  },
  {
   "cell_type": "code",
   "execution_count": null,
   "metadata": {},
   "outputs": [],
   "source": [
    "# Your code here - modify the basic plot in the cell above"
   ]
  },
  {
   "cell_type": "markdown",
   "metadata": {},
   "source": [
    "<h3 align=\"center\">Subplots</h3>\n",
    "\n",
    "Multiple graphs within the same figure\n",
    "\n",
    "`matplotlib.pyplot.subplots()` documentation: https://matplotlib.org/stable/api/_as_gen/matplotlib.pyplot.subplots.html"
   ]
  },
  {
   "cell_type": "code",
   "execution_count": null,
   "metadata": {},
   "outputs": [],
   "source": [
    "# Example data\n",
    "x = np.linspace(0, 10, 100)\n",
    "y1 = np.sin(x)\n",
    "y2 = np.cos(x)\n",
    "\n",
    "# Create a 2x1 subplot grid, (nrows=2, ncols=1, index=1)\n",
    "plt.subplot(2, 1, 1)\n",
    "plt.plot(x, y1, label='sin(x)', color='blue')\n",
    "plt.xlabel('x-axis')\n",
    "plt.ylabel('y-axis')\n",
    "plt.title('Sin(x)')\n",
    "plt.legend()\n",
    "\n",
    "# Create a 2x1 subplot grid, (nrows=2, ncols=1, index=2)\n",
    "plt.subplot(2, 1, 2)\n",
    "plt.plot(x, y2, label='cos(x)', color='green')\n",
    "plt.xlabel('x-axis')\n",
    "plt.ylabel('y-axis')\n",
    "plt.title('Cos(x)')\n",
    "plt.legend()\n",
    "\n",
    "# Adjust layout\n",
    "plt.tight_layout()\n",
    "\n",
    "# Show the plot\n",
    "plt.show()\n"
   ]
  },
  {
   "cell_type": "markdown",
   "metadata": {},
   "source": [
    "Error Bars\n",
    "\n",
    "`matplotlib.pyplot.errorbar()` documentation: https://matplotlib.org/stable/api/_as_gen/matplotlib.pyplot.errorbar.html"
   ]
  },
  {
   "cell_type": "code",
   "execution_count": null,
   "metadata": {},
   "outputs": [],
   "source": [
    "# Example data\n",
    "x = np.linspace(0, 10, 10)\n",
    "y = np.sin(x)\n",
    "error = 0.1 + 0.2 * x\n",
    "\n",
    "# Create a line plot with error bars\n",
    "plt.errorbar(x, y, yerr=error, fmt='o-', label='sin(x) with Error Bars', color='blue')\n",
    "\n",
    "# Add labels and title\n",
    "plt.xlabel('x-axis')\n",
    "plt.ylabel('y-axis')\n",
    "plt.title('Line Plot with Error Bars')\n",
    "plt.legend()\n",
    "\n",
    "# Show the plot\n",
    "plt.show()\n"
   ]
  },
  {
   "cell_type": "markdown",
   "metadata": {},
   "source": [
    "Annotations and Text\n",
    "\n",
    "`matplotlib.pyplot.annotate()` documentation: https://matplotlib.org/stable/api/_as_gen/matplotlib.pyplot.annotate.html\n",
    "\n",
    "`matplotlib.pyplot.text()` documentation: https://matplotlib.org/stable/api/_as_gen/matplotlib.pyplot.text.html"
   ]
  },
  {
   "cell_type": "code",
   "execution_count": null,
   "metadata": {},
   "outputs": [],
   "source": [
    "# Example data\n",
    "x = np.linspace(0, 10, 100)\n",
    "y = np.sin(x)\n",
    "\n",
    "# Create a line plot\n",
    "plt.plot(x, y, label='sin(x)', color='blue')\n",
    "\n",
    "# Add labels and title\n",
    "plt.xlabel('x-axis')\n",
    "plt.ylabel('y-axis')\n",
    "plt.title('Line Plot with Annotation')\n",
    "plt.legend()\n",
    "\n",
    "# add arrow annotation for max y value\n",
    "plt.annotate('max value', xy=(np.pi/2, 1), xytext=(np.pi/2, 0.5),\n",
    "                arrowprops=dict(facecolor='black', shrink=0.05))\n",
    "\n",
    "# Add text\n",
    "plt.text(4, 0.5, 'Some Text', fontsize=12, color='red')\n",
    "\n",
    "# Show the plot\n",
    "plt.show()\n"
   ]
  },
  {
   "cell_type": "markdown",
   "metadata": {},
   "source": [
    "<h3 align=\"center\">3D Plotting</h3>\n",
    "\n",
    "`mplot3d` toolkit provides the three dimensional axes objects necessary to make 3D plots and graphs with `matplotlib`.\n",
    "\n",
    "`mplot3d` toolkit documentation: https://matplotlib.org/stable/tutorials/toolkits/mplot3d.html\n",
    "\n",
    "`mplot3d.plot_surface()` documentation: https://matplotlib.org/stable/api/_as_gen/mpl_toolkits.mplot3d.axes3d.Axes3D.plot_surface.html"
   ]
  },
  {
   "cell_type": "code",
   "execution_count": null,
   "metadata": {},
   "outputs": [],
   "source": [
    "# Import necessary library for 3D plotting\n",
    "from mpl_toolkits.mplot3d import Axes3D\n",
    "\n",
    "# Example data\n",
    "x = np.linspace(-5, 5, 100)\n",
    "y = np.linspace(-5, 5, 100)\n",
    "X, Y = np.meshgrid(x, y)\n",
    "Z = np.sin(np.sqrt(X**2 + Y**2))\n",
    "\n",
    "# Create a 3D surface plot\n",
    "fig = plt.figure()\n",
    "ax = fig.add_subplot(111, projection='3d')\n",
    "ax.plot_surface(X, Y, Z, cmap='viridis')\n",
    "\n",
    "# Add labels and title\n",
    "ax.set_xlabel('X-axis')\n",
    "ax.set_ylabel('Y-axis')\n",
    "ax.set_zlabel('Z-axis')\n",
    "ax.set_title('3D Surface Plot')\n",
    "\n",
    "# Show the plot\n",
    "plt.show()"
   ]
  },
  {
   "cell_type": "code",
   "execution_count": null,
   "metadata": {},
   "outputs": [],
   "source": [
    "import numpy as np\n",
    "import matplotlib.pyplot as plt\n",
    "from mpl_toolkits.mplot3d import Axes3D\n",
    "\n",
    "# Create random data points\n",
    "np.random.seed(42)\n",
    "num_points = 100\n",
    "x = np.random.rand(num_points)\n",
    "y = np.random.rand(num_points)\n",
    "z = np.random.rand(num_points)\n",
    "\n",
    "# Create a figure and a 3D axis\n",
    "fig = plt.figure()\n",
    "ax = fig.add_subplot(111, projection='3d')\n",
    "\n",
    "# Create a 3D scatter plot\n",
    "scatter = ax.scatter(x, y, z, c=z, cmap='viridis', marker='o')\n",
    "\n",
    "# Add colorbar\n",
    "fig.colorbar(scatter)\n",
    "\n",
    "# Set labels and title\n",
    "ax.set_xlabel('X Label')\n",
    "ax.set_ylabel('Y Label')\n",
    "ax.set_zlabel('Z Label')\n",
    "ax.set_title('3D Scatter Plot')\n",
    "\n",
    "# Show the plot\n",
    "plt.show()\n"
   ]
  },
  {
   "cell_type": "markdown",
   "metadata": {},
   "source": [
    "`mplot3d.bar3d()` documentation: https://matplotlib.org/stable/api/_as_gen/mpl_toolkits.mplot3d.axes3d.Axes3D.bar3d.html"
   ]
  },
  {
   "cell_type": "code",
   "execution_count": null,
   "metadata": {},
   "outputs": [],
   "source": [
    "import numpy as np\n",
    "import matplotlib.pyplot as plt\n",
    "from mpl_toolkits.mplot3d import Axes3D\n",
    "\n",
    "# Create sample data\n",
    "x = np.arange(5)  # x coordinates of bars\n",
    "y = np.arange(5)  # y coordinates of bars\n",
    "X, Y = np.meshgrid(x, y)  # Create a grid of coordinates\n",
    "Z = np.random.rand(5, 5)  # Heights of bars\n",
    "\n",
    "# Create a figure and a 3D axis\n",
    "fig = plt.figure()\n",
    "ax = fig.add_subplot(111, projection='3d')\n",
    "\n",
    "# Create 3D bar plot - (coordinates of bar anchors (x,y), dimensions of bars(0,1,1), heights of bars)\n",
    "ax.bar3d(X.flatten(), Y.flatten(), 0, 1, 1, Z.flatten())\n",
    "\n",
    "# Set labels and title\n",
    "ax.set_xlabel('X Label')\n",
    "ax.set_ylabel('Y Label')\n",
    "ax.set_zlabel('Z Label')\n",
    "ax.set_title('3D Bar Plot')\n",
    "\n",
    "# Show the plot\n",
    "plt.show()\n"
   ]
  },
  {
   "cell_type": "markdown",
   "metadata": {},
   "source": [
    "Animated Plots"
   ]
  },
  {
   "cell_type": "code",
   "execution_count": null,
   "metadata": {},
   "outputs": [],
   "source": [
    "import numpy as np\n",
    "import matplotlib.pyplot as plt\n",
    "from matplotlib.animation import FuncAnimation\n",
    "\n",
    "# Create a figure and axis\n",
    "fig, ax = plt.subplots()\n",
    "xdata, ydata = [], []\n",
    "ln, = plt.plot([], [], 'r', animated=True)\n",
    "\n",
    "# Define the initialization function\n",
    "def init():\n",
    "    ax.set_xlim(0, 2*np.pi)\n",
    "    ax.set_ylim(-1, 1)\n",
    "    return ln,\n",
    "\n",
    "# Define the update function for the animation\n",
    "def update(frame):\n",
    "    xdata.append(frame)\n",
    "    ydata.append(np.sin(frame))\n",
    "    ln.set_data(xdata, ydata)\n",
    "    return ln,\n",
    "\n",
    "# Create the animation\n",
    "ani = FuncAnimation(fig, update, frames=np.linspace(0, 2*np.pi, 128),\n",
    "                    init_func=init, blit=True)\n",
    "\n",
    "# Display the animation\n",
    "from IPython.display import HTML\n",
    "HTML(ani.to_jshtml())\n"
   ]
  },
  {
   "cell_type": "markdown",
   "metadata": {},
   "source": [
    "Exercise 3: Let's create a 2x2 subplot with weather data together by completing the missing code in the cell below."
   ]
  },
  {
   "cell_type": "code",
   "execution_count": null,
   "metadata": {},
   "outputs": [],
   "source": [
    "# Create 2x2 subplot with weather data\n",
    "fig, axes = plt.subplots(2, 2, figsize=(12, 10))\n",
    "\n",
    "# PROVIDED DATA:\n",
    "months = ['Jan', 'Feb', 'Mar', 'Apr', 'May', 'Jun']\n",
    "temperature = [30, 35, 50, 65, 75, 85]\n",
    "rainfall = [2.5, 2.0, 3.5, 4.0, 3.0, 2.5]\n",
    "\n",
    "# TASK: Complete each subplot\n",
    "# Top-left: Temperature line plot\n",
    "axes[0, 0].plot(months, temperature)\n",
    "axes[0, 0].set_title('____')\n",
    "\n",
    "# Top-right: Rainfall bar chart  \n",
    "axes[0, 1].____('____', '____')\n",
    "axes[0, 1].set_title('____')\n",
    "\n",
    "# Bottom-left: Temperature vs Rainfall scatter\n",
    "axes[1, 0].____('____', '____')\n",
    "axes[1, 0].set_title('____')\n",
    "\n",
    "# Bottom-right: Your choice of visualization\n",
    "# Create any plot you want with the available data\n",
    "\n",
    "plt.tight_layout()\n",
    "plt.show()"
   ]
  },
  {
   "cell_type": "markdown",
   "metadata": {},
   "source": [
    "Work with your neighbor to enhance your 2x2 subplot:\n",
    "* Apply a consistent color scheme across all plots\n",
    "* Add a grid to plots if appropriate\n",
    "* Customize fonts and sizes\n",
    "* Add annotations or callouts to interesting data points\n",
    "* Include a global legend if applicable"
   ]
  },
  {
   "cell_type": "code",
   "execution_count": null,
   "metadata": {},
   "outputs": [],
   "source": [
    "# Your styled subplot here - modify the subplot code in the cell above\n",
    "\n"
   ]
  },
  {
   "cell_type": "markdown",
   "metadata": {},
   "source": [
    "Some more challenging modifications to try if time permits:\n",
    "* Use more complex layouts (mix of subplot sizes)\n",
    "* Include calculated metrics (correlations, trends)\n",
    "* Add statistical overlays (trend lines, confidence intervals)\n",
    "* Create coordinated visualizations (linked insights)\n",
    "* Include summary statistics as text annotations\n",
    "* Use advanced styling (custom colormaps, professional typography)"
   ]
  },
  {
   "cell_type": "code",
   "execution_count": null,
   "metadata": {},
   "outputs": [],
   "source": [
    "# Your code here\n"
   ]
  },
  {
   "cell_type": "markdown",
   "metadata": {},
   "source": [
    "<h3 align=\"center\">GeoPandas</h3>\n",
    "\n",
    "`GeoPandas` is a python library that makes it easy to work with geospatial data and create interactive maps.\n",
    "\n",
    "https://geopandas.org/en/stable/"
   ]
  },
  {
   "cell_type": "code",
   "execution_count": null,
   "metadata": {},
   "outputs": [],
   "source": [
    "import geopandas as gpd\n",
    "import matplotlib.pyplot as plt\n",
    "\n",
    "# load geospacial data\n",
    "world = gpd.read_file('data/countries/ne_110m_admin_0_countries.shp')\n",
    "\n",
    "# explore and plot data\n",
    "world.plot()\n",
    "plt.title(\"World Map\")\n",
    "plt.show()\n"
   ]
  },
  {
   "cell_type": "code",
   "execution_count": null,
   "metadata": {},
   "outputs": [],
   "source": [
    "# customize the map\n",
    "fig, ax = plt.subplots(figsize=(10, 6))\n",
    "world.plot(ax=ax, color='lightblue', edgecolor='black')\n",
    "ax.set_title(\"Customized World Map\")\n",
    "plt.show()\n"
   ]
  },
  {
   "cell_type": "markdown",
   "metadata": {},
   "source": [
    "GeoPandas chloropleths is a type of thematic map where areas are shaded or patterned in proportion to the value of a variable. GeoPandas makes it easy to create choropleth maps using geospatial data.\n",
    "\n",
    "Let's explore this by looking at the unemployment rate of each county in the US."
   ]
  },
  {
   "cell_type": "code",
   "execution_count": null,
   "metadata": {},
   "outputs": [],
   "source": [
    "import pandas as pd\n",
    "\n",
    "df1 = pd.read_csv('data/unemployment-2020.csv')\n",
    "df2 = pd.read_csv('data/lat-lon-fips.csv')\n",
    "\n",
    "# merge df1 and df2 on the column 'id'\n",
    "df = pd.merge(df1, df2, on='id')\n",
    "\n",
    "# show a graph of the data\n",
    "df.plot(x='lng', y='lat', kind='scatter')\n",
    "plt.show()"
   ]
  },
  {
   "cell_type": "code",
   "execution_count": null,
   "metadata": {},
   "outputs": [],
   "source": [
    "# Import the geopandas and geoplot libraries\n",
    "import geopandas as gpd\n",
    "import pandas as pd\n",
    "\n",
    "# Load the json file with county coordinates\n",
    "geoData = gpd.read_file('data/US-counties.geojson')\n",
    "\n",
    "# Make sure the \"id\" column is an integer\n",
    "geoData.id = geoData.id.astype(str).astype(int)\n",
    "\n",
    "# Read file\n",
    "data = pd.read_csv('data/unemployment-2020.csv')\n",
    "\n",
    "fullData = geoData.merge(data, left_on=['id'], right_on=['id'])\n",
    "\n",
    "fullData.explore(scheme='StdMean', cmap='YlOrRd', column='rate')"
   ]
  }
 ],
 "metadata": {
  "kernelspec": {
   "display_name": "Python 3",
   "language": "python",
   "name": "python3"
  },
  "language_info": {
   "codemirror_mode": {
    "name": "ipython",
    "version": 3
   },
   "file_extension": ".py",
   "mimetype": "text/x-python",
   "name": "python",
   "nbconvert_exporter": "python",
   "pygments_lexer": "ipython3",
   "version": "3.9.6"
  },
  "orig_nbformat": 4
 },
 "nbformat": 4,
 "nbformat_minor": 2
}
